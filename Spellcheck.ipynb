{
 "cells": [
  {
   "cell_type": "markdown",
   "metadata": {},
   "source": [
    "# Spellcheck\n",
    "\n",
    "This is a *very* simple project that was one of the first things I ever did in python. Just run the two code blocks below and enter some demo text. :)"
   ]
  },
  {
   "cell_type": "code",
   "execution_count": 1,
   "metadata": {},
   "outputs": [
    {
     "name": "stdout",
     "output_type": "stream",
     "text": [
      "Requirement already satisfied: requests in c:\\python38\\lib\\site-packages (2.24.0)\n",
      "Requirement already satisfied: certifi>=2017.4.17 in c:\\python38\\lib\\site-packages (from requests) (2020.6.20)\n",
      "Requirement already satisfied: urllib3!=1.25.0,!=1.25.1,<1.26,>=1.21.1 in c:\\python38\\lib\\site-packages (from requests) (1.25.10)\n",
      "Requirement already satisfied: idna<3,>=2.5 in c:\\python38\\lib\\site-packages (from requests) (2.10)\n",
      "Requirement already satisfied: chardet<4,>=3.0.2 in c:\\python38\\lib\\site-packages (from requests) (3.0.4)\n"
     ]
    }
   ],
   "source": [
    "!pip install requests"
   ]
  },
  {
   "cell_type": "code",
   "execution_count": 2,
   "metadata": {},
   "outputs": [
    {
     "name": "stdout",
     "output_type": "stream",
     "text": [
      "\n",
      "\n",
      "Enter the text you want to spellcheck:\n",
      ">> helllo world\n",
      "\n",
      "\n",
      "helllo --------> hello\n",
      "helllo --------> hello\n",
      "helllo --------> hello\n",
      "Good Word    --------> world\n",
      "\n",
      "\n",
      "#########################\n",
      "##       RESULTS        \n",
      "##  %50 Correct\n",
      "#########################\n"
     ]
    }
   ],
   "source": [
    "\"\"\"\n",
    "(c) Gubareve\n",
    "Created 15-Mar-20\n",
    "\"\"\"\n",
    "\n",
    "alphabet = 'abcdefghijklmnopqrstuvwxyz'\n",
    "def findsimilar(word):  #Generates Similar Words that may or may not be real words.\n",
    "   splits     = [(word[:i], word[i:]) for i in range(len(word) + 1)]\n",
    "   deletes    = [a + b[1:] for a, b in splits if b]\n",
    "   transposes = [a + b[1] + b[0] + b[2:] for a, b in splits if len(b)>1]\n",
    "   replaces   = [a + c + b[1:] for a, b in splits for c in alphabet if b]\n",
    "   inserts    = [a + c + b     for a, b in splits for c in alphabet]\n",
    "   return deletes + transposes + replaces + inserts\n",
    "\n",
    "try:\n",
    "    print()\n",
    "    import json\n",
    "    top = 0\n",
    "    bot = 0\n",
    "    alphabet = 'abcdefghijklmnopqrstuvwxyz'\n",
    "    \n",
    "    def convert(lst):                     #just stuff cause json sucks\n",
    "        return (lst[0].split())\n",
    "    import requests\n",
    "    jsontext = requests.get('https://gist.githubusercontent.com/gubareve/fb296a51084546fdf8ad8e0a035f2a49/raw/a4b0354d871a6e9b704fc55d82fd483e823862da/dict.txt').text\n",
    "    words = jsontext\n",
    "    print()\n",
    "    print(\"Enter the text you want to spellcheck:\")\n",
    "    textstring = input(\">> \")\n",
    "    print()\n",
    "    print()\n",
    "    textarray =  eval('[\"' + textstring + '\"]')\n",
    "    textwords = convert(textarray)\n",
    "    def capital(string):\n",
    "        capitalarray = []\n",
    "        capitalarray.append(string)\n",
    "        firstletter = capitalarray[0][0]\n",
    "        return firstletter.isupper()\n",
    "    \n",
    "    def ends(string):\n",
    "        endsarray = []\n",
    "        endsarray.append(string)\n",
    "        lastletter = endsarray[0][-1]\n",
    "        return lastletter in [\".\",\",\",\"?\",\"!\"]\n",
    "        \n",
    "    for word in textwords:\n",
    "        if (word in words):\n",
    "            #Spelled correctly\n",
    "            print(\"Good Word    --------> \" + word)\n",
    "            top += 1\n",
    "            bot += 1\n",
    "        elif capital(word):\n",
    "            #Is correct\n",
    "            print(\"Capital Word --------> \" + word)\n",
    "            top += 1\n",
    "            bot += 1\n",
    "        elif ends(word):\n",
    "            word = word.replace(\".\", \"\")\n",
    "            word = word.replace(\",\", \"\")\n",
    "            word = word.replace(\"?\", \"\")\n",
    "            word = word.replace(\"!\", \"\")\n",
    "            if (word in words):\n",
    "                print(\"Good Word    --------> \" + word)\n",
    "                top += 1\n",
    "            else:\n",
    "                tryword = findsimilar(word)\n",
    "                for singletryword in tryword:\n",
    "                    if singletryword in words:\n",
    "                        print(word + \" --------> \" + singletryword)\n",
    "            bot += 1\n",
    "        else:\n",
    "            #Bad Word, Reccomend\n",
    "            bot += 1\n",
    "            tryword = findsimilar(word)\n",
    "            for singletryword in tryword:\n",
    "                if singletryword in words:\n",
    "                    print(word + \" --------> \" + singletryword)\n",
    "    print()\n",
    "    print()\n",
    "    percent = top /bot \n",
    "    percent = percent * 100\n",
    "    percent = int(percent)\n",
    "    print(\"#########################\")\n",
    "    print(\"##       RESULTS        \")\n",
    "    print(\"##  %\" + str(percent) + \" Correct\")\n",
    "    print(\"#########################\")\n",
    "except Exception as e:\n",
    "    print()\n",
    "    print()\n",
    "    print(f\"Sorry, a Error Happened {e}\")\n"
   ]
  }
 ],
 "metadata": {
  "kernelspec": {
   "display_name": "Python 3",
   "language": "python",
   "name": "python3"
  },
  "language_info": {
   "codemirror_mode": {
    "name": "ipython",
    "version": 3
   },
   "file_extension": ".py",
   "mimetype": "text/x-python",
   "name": "python",
   "nbconvert_exporter": "python",
   "pygments_lexer": "ipython3",
   "version": "3.8.5"
  }
 },
 "nbformat": 4,
 "nbformat_minor": 4
}
